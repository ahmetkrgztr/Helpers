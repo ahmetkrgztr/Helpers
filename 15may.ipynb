{
 "cells": [
  {
   "cell_type": "code",
   "execution_count": 1,
   "metadata": {},
   "outputs": [],
   "source": [
    "sc.stop()"
   ]
  },
  {
   "cell_type": "markdown",
   "metadata": {},
   "source": [
    "# Start"
   ]
  },
  {
   "cell_type": "code",
   "execution_count": 2,
   "metadata": {},
   "outputs": [],
   "source": [
    "import os\n",
    "\n",
    "from pyspark.conf import SparkConf\n",
    "from pyspark.context import SparkContext\n",
    "from pyspark.sql.context import SQLContext\n",
    "from pyspark.sql.types import Row\n",
    "import pyspark"
   ]
  },
  {
   "cell_type": "code",
   "execution_count": 3,
   "metadata": {},
   "outputs": [],
   "source": [
    "ss = SparkSession.builder\\\n",
    "                 .appName(\"BOSCH\") \\\n",
    "                 .config(\"spark.sql.parquet.compression.codec\",\"snappy\")\\\n",
    "                 .config(\"spark.submit.deployMode\",\"client\")\\\n",
    "                 .config(\"spark.sql.shuffle.partitions\",\"1000\")\\\n",
    "                 .config(\"spark.executor.memory\",\"8g\")\\\n",
    "                 .config(\"spark.executor.memoryOverhead\",\"2g\")\\\n",
    "                 .enableHiveSupport()\\\n",
    "                 .getOrCreate()"
   ]
  },
  {
   "cell_type": "code",
   "execution_count": 4,
   "metadata": {},
   "outputs": [],
   "source": [
    "sqlContext = SQLContext(ss)"
   ]
  },
  {
   "cell_type": "markdown",
   "metadata": {},
   "source": [
    "## Directories"
   ]
  },
  {
   "cell_type": "code",
   "execution_count": 5,
   "metadata": {},
   "outputs": [],
   "source": [
    "def get_paths(path):\n",
    "    fs = spark._jvm.org.apache.hadoop.fs.FileSystem.get(spark._jsc.hadoopConfiguration())\n",
    "    list_status = fs.listStatus(spark._jvm.org.apache.hadoop.fs.Path(path))\n",
    "    result = [file.getPath().getName() for file in list_status]\n",
    "    return result"
   ]
  },
  {
   "cell_type": "code",
   "execution_count": 6,
   "metadata": {},
   "outputs": [],
   "source": [
    "class last_time_path():\n",
    "    \n",
    "    def __init__(self, path, time):\n",
    "        self.path = path\n",
    "        self.time = time\n",
    "\n",
    "    def get_last_time(self):\n",
    "        \n",
    "        while True:\n",
    "            \n",
    "            self.path = self.path + \"/\" + get_paths(self.path)[-1]\n",
    "            \n",
    "            if self.time in get_paths(self.path)[-1]:\n",
    "                self.path = self.path + \"/\" + get_paths(self.path)[-1]\n",
    "                break\n",
    "        \n",
    "        last_path = self.path\n",
    "\n",
    "        return last_path"
   ]
  },
  {
   "cell_type": "code",
   "execution_count": 7,
   "metadata": {},
   "outputs": [],
   "source": [
    "dataDirectory = \"/products/cri2/data/manufacturing/topics/cri2-mfg-streaming-results-v6\""
   ]
  },
  {
   "cell_type": "code",
   "execution_count": 8,
   "metadata": {},
   "outputs": [],
   "source": [
    "last_path = last_time_path(dataDirectory, \"hour\")"
   ]
  },
  {
   "cell_type": "code",
   "execution_count": 9,
   "metadata": {},
   "outputs": [],
   "source": [
    "input_dir = last_path.get_last_time()"
   ]
  },
  {
   "cell_type": "code",
   "execution_count": 16,
   "metadata": {},
   "outputs": [
    {
     "name": "stdout",
     "output_type": "stream",
     "text": [
      "/products/cri2/data/manufacturing/topics/cri2-mfg-streaming-results-v6/year=2019/month=05/day=15/hour=12\n"
     ]
    }
   ],
   "source": [
    "print(input_dir)"
   ]
  },
  {
   "cell_type": "markdown",
   "metadata": {},
   "source": [
    "## Import Data"
   ]
  },
  {
   "cell_type": "markdown",
   "metadata": {},
   "source": [
    "___"
   ]
  },
  {
   "cell_type": "code",
   "execution_count": 33,
   "metadata": {},
   "outputs": [],
   "source": [
    "def import_data(inputpath):\n",
    "\n",
    "    print(\"Done!, Value Count: \" + str (data.count()))\n",
    "    \n",
    "    return sqlContext.read.parquet(inputpath)\n"
   ]
  },
  {
   "cell_type": "code",
   "execution_count": 34,
   "metadata": {},
   "outputs": [
    {
     "name": "stdout",
     "output_type": "stream",
     "text": [
      "Done!, Value Count: 901033\n"
     ]
    }
   ],
   "source": [
    "data  = import_data(input_dir)"
   ]
  },
  {
   "cell_type": "markdown",
   "metadata": {},
   "source": [
    "# Peeking Data"
   ]
  },
  {
   "cell_type": "markdown",
   "metadata": {},
   "source": [
    "---"
   ]
  },
  {
   "cell_type": "code",
   "execution_count": null,
   "metadata": {},
   "outputs": [],
   "source": [
    "print(data.columns)"
   ]
  },
  {
   "cell_type": "code",
   "execution_count": null,
   "metadata": {},
   "outputs": [],
   "source": [
    "selected_columns_list = ['LINE',\n",
    "                    'LOCATION_AREA',\n",
    "                    'LOCATION_FUNCTION',\n",
    "                    'LOCATION_ID',\n",
    "                    'LOCATION_LINE',\n",
    "                    'LOCATION_PLANT',\n",
    "                    'LOCATION_PRODUCT',\n",
    "                    'LOCATION_RESULT_STATE',\n",
    "                    'LOCATION_STATINDEX',\n",
    "                    'LOCATION_STATION',\n",
    "                    'LOCATION_TOOLPOSITION',\n",
    "                    'LOCATION_WORKPOSITION',\n",
    "                    'NIOBITS',\n",
    "                    'PLANT',\n",
    "                    'PRODUCT',\n",
    "                    'PRODUCTION_DAY',\n",
    "                    'REKURSIONFLAG',\n",
    "                    'RESULT_DATE_LOCAL',\n",
    "                    'RESULT_VALUE',\n",
    "                    'TIME_STAMP',\n",
    "                    'TYPE_NUMBER',\n",
    "                    'PARAM_NAME']"
   ]
  },
  {
   "cell_type": "code",
   "execution_count": null,
   "metadata": {},
   "outputs": [],
   "source": [
    "data_selected = data.select(selected_columns_list)\n",
    "data_selected.count()"
   ]
  },
  {
   "cell_type": "code",
   "execution_count": null,
   "metadata": {},
   "outputs": [],
   "source": [
    "data_filtered = data_selected.filter((data_selected[\"LOCATION_PLANT\"] == \"Bu2\") & \\\n",
    "                                  (data_selected[\"PRODUCT\"] == \"Testing\")& \\\n",
    "                                  (data_selected[\"LOCATION_STATION\"] == \"2\")& \\\n",
    "                                  (data_selected[\"PARAM_NAME\"] == \"fcode\"))"
   ]
  },
  {
   "cell_type": "code",
   "execution_count": null,
   "metadata": {},
   "outputs": [],
   "source": [
    "data_filtered.count()"
   ]
  }
 ],
 "metadata": {
  "kernelspec": {
   "display_name": "Python 2",
   "language": "python",
   "name": "python2"
  },
  "language_info": {
   "codemirror_mode": {
    "name": "ipython",
    "version": 2
   },
   "file_extension": ".py",
   "mimetype": "text/x-python",
   "name": "python",
   "nbconvert_exporter": "python",
   "pygments_lexer": "ipython2",
   "version": "2.7.13"
  }
 },
 "nbformat": 4,
 "nbformat_minor": 2
}
